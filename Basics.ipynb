{
 "cells": [
  {
   "cell_type": "markdown",
   "id": "a2994461-5b08-4e7b-b308-98b0b492f60d",
   "metadata": {},
   "source": [
    "# Python Basics"
   ]
  },
  {
   "cell_type": "markdown",
   "id": "856ae1e5-a438-4c4b-ae70-1883a47ca09b",
   "metadata": {},
   "source": [
    "#### Swap 2 Numbers\n",
    "Example \n",
    "Enter value of a = 1\n",
    "Enter value of b = 2\n",
    "\n",
    "a = 2\n",
    "b = 1"
   ]
  },
  {
   "cell_type": "code",
   "execution_count": 3,
   "id": "48f7a5c5-15c4-444d-8c2a-588310821f6f",
   "metadata": {},
   "outputs": [
    {
     "name": "stdin",
     "output_type": "stream",
     "text": [
      "Enter the value of A  2\n",
      "Enter the value of B  1\n"
     ]
    },
    {
     "name": "stdout",
     "output_type": "stream",
     "text": [
      "Value of a = 1\n",
      "Value of b = 2\n"
     ]
    }
   ],
   "source": [
    "valueA = int(input(\"Enter the value of A \"))\n",
    "valueB = int(input(\"Enter the value of B \"))\n",
    "\n",
    "valueC = 0\n",
    "\n",
    "valueC = valueA\n",
    "valueA = valueB\n",
    "valueB = valueC\n",
    "\n",
    "print(\"Value of a =\", valueA)\n",
    "print(\"Value of b =\", valueB)"
   ]
  },
  {
   "cell_type": "code",
   "execution_count": 4,
   "id": "80ace2a5-913e-40df-a01e-d181bd69fa66",
   "metadata": {},
   "outputs": [
    {
     "name": "stdout",
     "output_type": "stream",
     "text": [
      "<class 'int'>\n"
     ]
    }
   ],
   "source": [
    "print(type(valueC))"
   ]
  },
  {
   "cell_type": "markdown",
   "id": "3dccacc1-2387-4b81-a593-35464fc142e9",
   "metadata": {},
   "source": [
    "valueC is the instance of class int."
   ]
  },
  {
   "cell_type": "markdown",
   "id": "2ce1c7a1-857a-412c-bb52-d44994ef2ef0",
   "metadata": {},
   "source": [
    "#### Program to add digits of a number\n",
    "\n",
    "Example\n",
    "input = 12\n",
    "output = 1 + 2 = 5"
   ]
  },
  {
   "cell_type": "code",
   "execution_count": 11,
   "id": "3acca09e-71f6-46f5-a014-57699caf7c9d",
   "metadata": {},
   "outputs": [
    {
     "name": "stdin",
     "output_type": "stream",
     "text": [
      "Enter the digit 123\n"
     ]
    },
    {
     "name": "stdout",
     "output_type": "stream",
     "text": [
      "6\n"
     ]
    }
   ],
   "source": [
    "number = input(\"Enter the digit\")\n",
    "sum = 0\n",
    "\n",
    "for digit in number:\n",
    "    sum += int(digit)\n",
    "\n",
    "print(sum)"
   ]
  },
  {
   "cell_type": "markdown",
   "id": "b43dd764-e05b-4cbe-8c91-21a0f9cb599b",
   "metadata": {},
   "source": [
    "#### Calculate BMI\n",
    "\n",
    "bmi = weight / height^2"
   ]
  },
  {
   "cell_type": "code",
   "execution_count": 18,
   "id": "13165f77-86c1-4335-9aac-64f84cfd7b65",
   "metadata": {},
   "outputs": [
    {
     "name": "stdin",
     "output_type": "stream",
     "text": [
      "Enter the weight of a body:  45\n",
      "Enter the height of a body:  1.5\n"
     ]
    },
    {
     "name": "stdout",
     "output_type": "stream",
     "text": [
      "20\n"
     ]
    }
   ],
   "source": [
    "weight = float(input(\"Enter the weight of a body: \"))\n",
    "height = float(input(\"Enter the height of a body: \"))\n",
    "\n",
    "bmi = weight / height ** 2\n",
    "\n",
    "print(int(bmi))"
   ]
  },
  {
   "cell_type": "markdown",
   "id": "e8c14acd-2d3a-4f35-85c7-c8da76e9d213",
   "metadata": {},
   "source": [
    "### Round Function\n",
    "\n",
    "Syntax = round(number, no. of digits(optional))"
   ]
  },
  {
   "cell_type": "code",
   "execution_count": 19,
   "id": "7bb65f04-fdeb-42e5-9dfe-69aef7d00370",
   "metadata": {},
   "outputs": [
    {
     "name": "stdout",
     "output_type": "stream",
     "text": [
      "6\n"
     ]
    }
   ],
   "source": [
    "print(round(5.7))"
   ]
  },
  {
   "cell_type": "code",
   "execution_count": 30,
   "id": "cd535d95-309a-40d0-a08c-d8401a1d1d5b",
   "metadata": {},
   "outputs": [
    {
     "name": "stdout",
     "output_type": "stream",
     "text": [
      "1000\n"
     ]
    }
   ],
   "source": [
    "## 10^(-no. of digits)\n",
    "\n",
    "print(round(674, -3))"
   ]
  },
  {
   "cell_type": "code",
   "execution_count": 21,
   "id": "d257238e-d65e-46c7-bb50-570cb4afe3f4",
   "metadata": {},
   "outputs": [
    {
     "name": "stdout",
     "output_type": "stream",
     "text": [
      "7\n"
     ]
    }
   ],
   "source": [
    "print(round(7, 2))"
   ]
  },
  {
   "cell_type": "code",
   "execution_count": 22,
   "id": "207f5a84-6064-4137-8139-104e6f23dcf9",
   "metadata": {},
   "outputs": [
    {
     "name": "stdout",
     "output_type": "stream",
     "text": [
      "2.68\n"
     ]
    }
   ],
   "source": [
    "print(round(2.67839, 2))"
   ]
  },
  {
   "cell_type": "code",
   "execution_count": 24,
   "id": "69d444f6-3438-48e4-8577-815dcf2cee8c",
   "metadata": {},
   "outputs": [
    {
     "name": "stdout",
     "output_type": "stream",
     "text": [
      "6\n"
     ]
    }
   ],
   "source": [
    "## in this case  they return nearest even number\n",
    "print(round(6.5))"
   ]
  },
  {
   "cell_type": "markdown",
   "id": "95bec707-1e1d-4ac9-b162-94c5dc291012",
   "metadata": {},
   "source": [
    "### f-strings in python"
   ]
  },
  {
   "cell_type": "code",
   "execution_count": 31,
   "id": "9e4f171d-c79b-41b6-8a95-9b2109420f91",
   "metadata": {},
   "outputs": [
    {
     "name": "stdout",
     "output_type": "stream",
     "text": [
      "My name is Abhishek. I am 19 years old. My height is 5.7feet\n"
     ]
    }
   ],
   "source": [
    "name = \"Abhishek\"\n",
    "age = 19\n",
    "height = \"5.7feet\"\n",
    "\n",
    "print(f\"My name is {name}. I am {age} years old. My height is {height}\")"
   ]
  },
  {
   "cell_type": "markdown",
   "id": "9b84025d-ba4b-43a8-875c-07d77a018f41",
   "metadata": {},
   "source": [
    "#### Find out how many days, weeks, months and years we have left if we live until 90 years old.\n"
   ]
  },
  {
   "cell_type": "code",
   "execution_count": 32,
   "id": "5e5df88c-275e-47a2-a135-8950905df7ba",
   "metadata": {},
   "outputs": [
    {
     "name": "stdin",
     "output_type": "stream",
     "text": [
      "Enter your current age:  19\n"
     ]
    },
    {
     "name": "stdout",
     "output_type": "stream",
     "text": [
      "You have 25915 days, 3692 weeks and 852 months left\n"
     ]
    }
   ],
   "source": [
    "currentAge = int(input(\"Enter your current age: \"))\n",
    "years_left = 90 - currentAge\n",
    "\n",
    "days_left = years_left * 365\n",
    "month_left = years_left * 12\n",
    "weeks_left = years_left * 52\n",
    "\n",
    "print(f\"You have {days_left} days, {weeks_left} weeks and {month_left} months left\")"
   ]
  },
  {
   "cell_type": "code",
   "execution_count": null,
   "id": "f5840c9d-f169-4c97-aace-6f5726e60435",
   "metadata": {},
   "outputs": [],
   "source": []
  }
 ],
 "metadata": {
  "kernelspec": {
   "display_name": "Python 3 (ipykernel)",
   "language": "python",
   "name": "python3"
  },
  "language_info": {
   "codemirror_mode": {
    "name": "ipython",
    "version": 3
   },
   "file_extension": ".py",
   "mimetype": "text/x-python",
   "name": "python",
   "nbconvert_exporter": "python",
   "pygments_lexer": "ipython3",
   "version": "3.11.1"
  }
 },
 "nbformat": 4,
 "nbformat_minor": 5
}
