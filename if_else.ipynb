{
 "cells": [
  {
   "cell_type": "markdown",
   "id": "ff9e07e0-ed28-49d6-bf40-666d2786f3a5",
   "metadata": {},
   "source": [
    "# if-else in Python (Conditional Statements)"
   ]
  },
  {
   "cell_type": "code",
   "execution_count": 4,
   "id": "69598453-7ebd-46ed-bee0-fefee86dede5",
   "metadata": {},
   "outputs": [
    {
     "name": "stdin",
     "output_type": "stream",
     "text": [
      "Enter age:  6\n"
     ]
    },
    {
     "name": "stdout",
     "output_type": "stream",
     "text": [
      "Token Required\n"
     ]
    }
   ],
   "source": [
    "age = int(input(\"Enter age: \"))\n",
    "\n",
    "if(age > 5):\n",
    "    print(\"Token Required\")\n",
    "else:\n",
    "    print(\"Free Entry\")\n",
    "    "
   ]
  },
  {
   "cell_type": "markdown",
   "id": "51fdbf63-fcf7-49b4-b411-e979e3419269",
   "metadata": {},
   "source": [
    "### Exercise :- Find the entered number is odd or even."
   ]
  },
  {
   "cell_type": "code",
   "execution_count": 6,
   "id": "5253a9d9-83dd-4bdd-9b40-2d962743d342",
   "metadata": {},
   "outputs": [
    {
     "name": "stdin",
     "output_type": "stream",
     "text": [
      "Enter the number:  999\n"
     ]
    },
    {
     "name": "stdout",
     "output_type": "stream",
     "text": [
      "Number is odd\n"
     ]
    }
   ],
   "source": [
    "number = int(input(\"Enter the number: \"))\n",
    "\n",
    "if number % 2 == 0:\n",
    "    print(\"Number is even\")\n",
    "else:\n",
    "    print(\"Number is odd\")"
   ]
  },
  {
   "cell_type": "markdown",
   "id": "eb84a501-47cb-4cc6-99b3-db48b11a3e72",
   "metadata": {},
   "source": [
    "### Nested if & elif"
   ]
  },
  {
   "cell_type": "code",
   "execution_count": 7,
   "id": "2f708ec1-7d9f-4730-b680-661cb2b776b5",
   "metadata": {},
   "outputs": [
    {
     "name": "stdin",
     "output_type": "stream",
     "text": [
      "Enter a height in feet:  5.6\n"
     ]
    },
    {
     "name": "stdout",
     "output_type": "stream",
     "text": [
      "You can ride\n"
     ]
    },
    {
     "name": "stdin",
     "output_type": "stream",
     "text": [
      "Enter your age:  19\n"
     ]
    },
    {
     "name": "stdout",
     "output_type": "stream",
     "text": [
      "Pay 100rs. for ride\n"
     ]
    }
   ],
   "source": [
    "height = float(input(\"Enter a height in feet: \"))\n",
    "\n",
    "if height > 5:\n",
    "    print(\"You can ride\")\n",
    "    age = int(input(\"Enter your age: \"))\n",
    "    if age < 18:\n",
    "        print(\"Pay 50rs. for ride\")\n",
    "    else: \n",
    "        print('Pay 100rs. for ride')\n",
    "else:\n",
    "    print(\"Sorry, you can't ride\")"
   ]
  },
  {
   "cell_type": "code",
   "execution_count": 9,
   "id": "e25ad3f1-3598-4787-9890-9b38c5d13bfe",
   "metadata": {},
   "outputs": [
    {
     "name": "stdin",
     "output_type": "stream",
     "text": [
      "Enter the week day in number:  4\n"
     ]
    },
    {
     "name": "stdout",
     "output_type": "stream",
     "text": [
      "Wednesday\n"
     ]
    }
   ],
   "source": [
    "week_day = int(input(\"Enter the week day in number: \"))\n",
    "\n",
    "if week_day == 1:\n",
    "    print(\"Sunday\")\n",
    "elif week_day == 2:\n",
    "    print(\"Monday\")\n",
    "elif week_day == 3:\n",
    "    print(\"Tuesday\")\n",
    "elif week_day == 4:\n",
    "    print(\"Wednesday\")\n",
    "elif week_day == 5:\n",
    "    print(\"Thursday\")\n",
    "elif week_day == 6:\n",
    "    print(\"Friday\")\n",
    "elif week_day == 7:\n",
    "    print(\"Saturday\")"
   ]
  },
  {
   "cell_type": "markdown",
   "id": "09eae8fb-3d01-4460-b53c-ab06d7421660",
   "metadata": {},
   "source": [
    "### Multiple if statements"
   ]
  },
  {
   "cell_type": "code",
   "execution_count": 22,
   "id": "f0230859-73da-46b1-b35a-9a06a8b3423b",
   "metadata": {},
   "outputs": [
    {
     "name": "stdin",
     "output_type": "stream",
     "text": [
      "Enter the size of pizza you want small\n",
      "Want pepperoni no\n",
      "Want extra cheese yes\n"
     ]
    },
    {
     "name": "stdout",
     "output_type": "stream",
     "text": [
      "You pay 130rs.\n"
     ]
    }
   ],
   "source": [
    "pizza = input(\"Enter the size of pizza you want\").upper()\n",
    "small_pizza = 100\n",
    "medium_pizza = 200\n",
    "large_pizza = 300\n",
    "pepperoni_s = 30\n",
    "pepperoni_m_l = 50\n",
    "extra_cheese = 30\n",
    "pepperoni = input(\"Want pepperoni\").upper()\n",
    "cheese = input(\"Want extra cheese\").upper()\n",
    "\n",
    "if pizza == \"SMALL\":\n",
    "    if pepperoni == \"YES\":   \n",
    "        print(f\"You pay {small_pizza + pepperoni_s}rs.\")\n",
    "    elif cheese == \"YES\":\n",
    "        print(f\"You pay {small_pizza + extra_cheese}rs.\")\n",
    "    elif cheese == \"YES\" and pepperoni == \"YES\":\n",
    "        print(f\"You pay {small_pizza + extra_cheese + pepperoni_s}rs.\")\n",
    "    else:\n",
    "        print(f\"You pay {small_pizza}rs.\")\n",
    "elif pizza == \"MEDIUM\":\n",
    "    if pepperoni == \"YES\":   \n",
    "        print(f\"You pay {medium_pizza + pepperoni_m_l}rs.\")\n",
    "    elif cheese == \"YES\":\n",
    "        print(f\"You pay {medium_pizza + extra_cheese}rs.\")\n",
    "    elif (cheese == \"YES\") and (pepperoni == \"YES\"):\n",
    "        print(f\"You pay {medium_pizza + extra_cheese + pepperoni_m_l}rs.\")\n",
    "    else:\n",
    "        print(f\"You pay {medium_pizza}rs.\")\n",
    "elif pizza == \"LARGE\":\n",
    "    if pepperoni == \"YES\":   \n",
    "        print(f\"You pay {large_pizza + pepperoni_m_l}rs.\")\n",
    "    elif cheese == \"YES\":\n",
    "        print(f\"You pay {large_pizza + extra_cheese}rs.\")\n",
    "    elif cheese == \"YES\" and pepperoni == \"YES\":\n",
    "        print(f\"You pay {large_pizza + extra_cheese + pepperoni_m_l}rs.\")\n",
    "    else:\n",
    "        print(f\"You pay {large_pizza}rs.\")\n",
    "else:\n",
    "    print(\"Invalid Size\")"
   ]
  },
  {
   "cell_type": "code",
   "execution_count": null,
   "id": "e4e4fbc0-59bb-402c-986b-12802eb2b126",
   "metadata": {},
   "outputs": [],
   "source": []
  }
 ],
 "metadata": {
  "kernelspec": {
   "display_name": "Python 3 (ipykernel)",
   "language": "python",
   "name": "python3"
  },
  "language_info": {
   "codemirror_mode": {
    "name": "ipython",
    "version": 3
   },
   "file_extension": ".py",
   "mimetype": "text/x-python",
   "name": "python",
   "nbconvert_exporter": "python",
   "pygments_lexer": "ipython3",
   "version": "3.11.1"
  }
 },
 "nbformat": 4,
 "nbformat_minor": 5
}
