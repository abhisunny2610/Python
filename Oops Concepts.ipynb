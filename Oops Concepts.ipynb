{
 "cells": [
  {
   "cell_type": "markdown",
   "id": "30c843f0-125a-4df3-b5ee-8c40a0a673ab",
   "metadata": {},
   "source": [
    "## Decorators in Python\n",
    "\n",
    "A decorator is a design pattern in Python that allows a user to add new functionality to an existing object without modifying its structure."
   ]
  },
  {
   "cell_type": "code",
   "execution_count": 23,
   "id": "66c876d6-7850-4781-a3cf-7bfdd38d379a",
   "metadata": {},
   "outputs": [],
   "source": [
    "def test():\n",
    "    print(\"This is my test function\")"
   ]
  },
  {
   "cell_type": "code",
   "execution_count": 24,
   "id": "9c8f3cfe-9d73-48d4-ae0f-78fbc277f651",
   "metadata": {},
   "outputs": [
    {
     "name": "stdout",
     "output_type": "stream",
     "text": [
      "This is my test function\n"
     ]
    }
   ],
   "source": [
    "test()"
   ]
  },
  {
   "cell_type": "code",
   "execution_count": 25,
   "id": "ac1db218-14f8-4c2a-9b9a-4fc9b38a0aa3",
   "metadata": {},
   "outputs": [],
   "source": [
    "def decorate(fun):\n",
    "    def inner_dec():\n",
    "        print(\"Starting line\")\n",
    "        fun()\n",
    "        print(\"Ending line\")\n",
    "    return inner_dec"
   ]
  },
  {
   "cell_type": "code",
   "execution_count": 26,
   "id": "a51a15b1-76d4-49e8-ab9d-d8c2174fa680",
   "metadata": {},
   "outputs": [],
   "source": [
    "@decorate\n",
    "def addition():\n",
    "    return print(2+7)"
   ]
  },
  {
   "cell_type": "code",
   "execution_count": 27,
   "id": "fa8d029c-792c-4fb1-b12f-c154c1100568",
   "metadata": {},
   "outputs": [
    {
     "name": "stdout",
     "output_type": "stream",
     "text": [
      "Starting line\n",
      "9\n",
      "Ending line\n"
     ]
    }
   ],
   "source": [
    "addition()"
   ]
  },
  {
   "cell_type": "code",
   "execution_count": 28,
   "id": "4664c02b-6360-4484-bede-1b39683c017e",
   "metadata": {},
   "outputs": [],
   "source": [
    "import time\n",
    "\n",
    "def timer_test(func):\n",
    "    def timer_test_inner():\n",
    "        start = time.time()\n",
    "        func()\n",
    "        end = time.time()\n",
    "        print(end - start)\n",
    "    return timer_test_inner"
   ]
  },
  {
   "cell_type": "code",
   "execution_count": 29,
   "id": "1e1b96c9-c4f3-4a26-8cd1-cf96b0687ceb",
   "metadata": {},
   "outputs": [],
   "source": [
    "@timer_test\n",
    "def test2():\n",
    "    print(45+78)"
   ]
  },
  {
   "cell_type": "code",
   "execution_count": 30,
   "id": "c8f0c2e2-2ef8-4fc1-a768-b42c46d84ed4",
   "metadata": {},
   "outputs": [
    {
     "name": "stdout",
     "output_type": "stream",
     "text": [
      "123\n",
      "0.0\n"
     ]
    }
   ],
   "source": [
    "test2()"
   ]
  },
  {
   "cell_type": "markdown",
   "id": "a0ecef6d-aa24-4125-8e3f-7ff61605c168",
   "metadata": {},
   "source": [
    "## Class Methods\n",
    "\n",
    "passing data without creating object (override method)"
   ]
  },
  {
   "cell_type": "code",
   "execution_count": 32,
   "id": "a4d14935-1a3c-47bf-8f1c-c3f8d139f8b9",
   "metadata": {},
   "outputs": [],
   "source": [
    "class student:\n",
    "    def __init__(self, name, email):\n",
    "        self.name = name\n",
    "        self.email = email\n",
    "\n",
    "    @classmethod\n",
    "    def enter_details(cls, name, email):\n",
    "        return cls(name, email)\n",
    "    \n",
    "    def student_details(self):\n",
    "        print(self.name, self.email)"
   ]
  },
  {
   "cell_type": "code",
   "execution_count": 35,
   "id": "dda172fb-ca2b-46c9-95fc-4091f6e15fdb",
   "metadata": {},
   "outputs": [],
   "source": [
    "std1 = student.enter_details(\"Abhishek\", \"abhishek174@gmail.com\")"
   ]
  },
  {
   "cell_type": "code",
   "execution_count": 36,
   "id": "5f8c240e-d177-49fb-8892-db1b1640d23c",
   "metadata": {},
   "outputs": [
    {
     "name": "stdout",
     "output_type": "stream",
     "text": [
      "Abhishek abhishek174@gmail.com\n"
     ]
    }
   ],
   "source": [
    "std1.student_details()"
   ]
  },
  {
   "cell_type": "code",
   "execution_count": 37,
   "id": "aeaf8572-a0bf-42b0-a09e-d65e8813178d",
   "metadata": {},
   "outputs": [
    {
     "data": {
      "text/plain": [
       "'Abhishek'"
      ]
     },
     "execution_count": 37,
     "metadata": {},
     "output_type": "execute_result"
    }
   ],
   "source": [
    "std1.name"
   ]
  },
  {
   "cell_type": "code",
   "execution_count": 39,
   "id": "24854720-7897-4066-aa82-9dac68fb1413",
   "metadata": {},
   "outputs": [],
   "source": [
    "def number(cls, num):\n",
    "    return print(\"Your number is \", num)"
   ]
  },
  {
   "cell_type": "code",
   "execution_count": 40,
   "id": "45b5b230-67aa-4630-af7e-157433e40a8c",
   "metadata": {},
   "outputs": [],
   "source": [
    "student.number = classmethod(number)"
   ]
  },
  {
   "cell_type": "code",
   "execution_count": 41,
   "id": "573830a5-c60a-4d3b-a54d-c1125b4f186a",
   "metadata": {},
   "outputs": [
    {
     "name": "stdout",
     "output_type": "stream",
     "text": [
      "Your number is  9778547996\n"
     ]
    }
   ],
   "source": [
    "student.number(9778547996)"
   ]
  },
  {
   "cell_type": "markdown",
   "id": "2c37e6ef-a8dc-4624-a995-082303114a9d",
   "metadata": {},
   "source": [
    "## Property method - getter, setter, deletter"
   ]
  },
  {
   "cell_type": "code",
   "execution_count": 52,
   "id": "0fb33635-9550-4cdd-b1dd-79aebcb1f715",
   "metadata": {},
   "outputs": [],
   "source": [
    "class student2:\n",
    "    def __init__(self, name, email, fees):\n",
    "        self.name = name\n",
    "        self.email = email\n",
    "        self.__fees = fees\n",
    "\n",
    "    @property\n",
    "    def access_fees(self):\n",
    "        return self.__fees\n",
    "\n",
    "    @access_fees.setter\n",
    "    def set_fees(self, fees):\n",
    "        if fees >= self.__fees:\n",
    "            self.__fees = fees\n",
    "        else:\n",
    "            self.__fees\n",
    "\n",
    "    @access_fees.deleter\n",
    "    def delete_fees(self):\n",
    "        del self.__fees\n",
    "    \n",
    "    def student_details(self):\n",
    "        print(self.name, self.email)"
   ]
  },
  {
   "cell_type": "code",
   "execution_count": 53,
   "id": "44c6abd4-5752-4b8a-a802-f9f95a9e07ee",
   "metadata": {},
   "outputs": [],
   "source": [
    "std2 = student2(\"Abhishek\", \"abhishek12@gmail.com\", 80000)"
   ]
  },
  {
   "cell_type": "code",
   "execution_count": 54,
   "id": "85f2c1d1-9419-423a-9ec0-8332001b163d",
   "metadata": {},
   "outputs": [
    {
     "data": {
      "text/plain": [
       "80000"
      ]
     },
     "execution_count": 54,
     "metadata": {},
     "output_type": "execute_result"
    }
   ],
   "source": [
    "std2.access_fees"
   ]
  },
  {
   "cell_type": "code",
   "execution_count": 55,
   "id": "92ff373c-5337-4672-bab7-45d834cd4eb7",
   "metadata": {},
   "outputs": [],
   "source": [
    "std2.set_fees= 90000"
   ]
  },
  {
   "cell_type": "code",
   "execution_count": 56,
   "id": "d298d7da-a3e2-456b-b50d-2d006990d141",
   "metadata": {},
   "outputs": [
    {
     "data": {
      "text/plain": [
       "90000"
      ]
     },
     "execution_count": 56,
     "metadata": {},
     "output_type": "execute_result"
    }
   ],
   "source": [
    "std2.access_fees"
   ]
  },
  {
   "cell_type": "code",
   "execution_count": 57,
   "id": "d141fe9d-58e7-4ffc-8ea8-9bda83875965",
   "metadata": {},
   "outputs": [],
   "source": [
    "del std2.delete_fees"
   ]
  },
  {
   "cell_type": "code",
   "execution_count": 58,
   "id": "7430fb0b-889f-4358-bdde-bf09774daf47",
   "metadata": {},
   "outputs": [
    {
     "ename": "AttributeError",
     "evalue": "'student2' object has no attribute '_student2__fees'",
     "output_type": "error",
     "traceback": [
      "\u001b[1;31m---------------------------------------------------------------------------\u001b[0m",
      "\u001b[1;31mAttributeError\u001b[0m                            Traceback (most recent call last)",
      "Cell \u001b[1;32mIn[58], line 1\u001b[0m\n\u001b[1;32m----> 1\u001b[0m \u001b[43mstd2\u001b[49m\u001b[38;5;241;43m.\u001b[39;49m\u001b[43maccess_fees\u001b[49m\n",
      "Cell \u001b[1;32mIn[52], line 9\u001b[0m, in \u001b[0;36mstudent2.access_fees\u001b[1;34m(self)\u001b[0m\n\u001b[0;32m      7\u001b[0m \u001b[38;5;129m@property\u001b[39m\n\u001b[0;32m      8\u001b[0m \u001b[38;5;28;01mdef\u001b[39;00m \u001b[38;5;21maccess_fees\u001b[39m(\u001b[38;5;28mself\u001b[39m):\n\u001b[1;32m----> 9\u001b[0m     \u001b[38;5;28;01mreturn\u001b[39;00m \u001b[38;5;28;43mself\u001b[39;49m\u001b[38;5;241;43m.\u001b[39;49m\u001b[43m__fees\u001b[49m\n",
      "\u001b[1;31mAttributeError\u001b[0m: 'student2' object has no attribute '_student2__fees'"
     ]
    }
   ],
   "source": [
    "std2.access_fees"
   ]
  },
  {
   "cell_type": "code",
   "execution_count": null,
   "id": "fe4da54c-1a76-4036-9d8a-5095dfc3844c",
   "metadata": {},
   "outputs": [],
   "source": []
  }
 ],
 "metadata": {
  "kernelspec": {
   "display_name": "Python 3 (ipykernel)",
   "language": "python",
   "name": "python3"
  },
  "language_info": {
   "codemirror_mode": {
    "name": "ipython",
    "version": 3
   },
   "file_extension": ".py",
   "mimetype": "text/x-python",
   "name": "python",
   "nbconvert_exporter": "python",
   "pygments_lexer": "ipython3",
   "version": "3.11.1"
  }
 },
 "nbformat": 4,
 "nbformat_minor": 5
}
