{
 "cells": [
  {
   "cell_type": "markdown",
   "id": "1283912f-0784-40a1-8a40-b73114f71152",
   "metadata": {},
   "source": [
    "## Logging\n",
    "\n",
    "Logging is a way to store information about your script and track events that occur. When writing any complex script in Python, logging is essential for debugging software as you develop it."
   ]
  },
  {
   "cell_type": "code",
   "execution_count": 1,
   "id": "92dbbebc-a1d6-4023-a195-abb7ef075f3c",
   "metadata": {},
   "outputs": [],
   "source": [
    "import logging"
   ]
  },
  {
   "cell_type": "code",
   "execution_count": 3,
   "id": "dc1ff83f-465e-4ea9-a7c8-f9f81878fdf0",
   "metadata": {},
   "outputs": [],
   "source": [
    "logging.basicConfig(filename=\"Text.log\", level=logging.INFO)"
   ]
  },
  {
   "cell_type": "code",
   "execution_count": 4,
   "id": "cf23c9cb-4ac9-40c1-a2c6-840e90d8f742",
   "metadata": {},
   "outputs": [],
   "source": [
    "logging.info(\"This line of exceutation.\")"
   ]
  },
  {
   "cell_type": "markdown",
   "id": "10e6a145-5d8a-489d-930e-4e8f0ff873c5",
   "metadata": {},
   "source": [
    "**Level Stage**\n",
    "1. NOTSET\n",
    "2. DEBUG\n",
    "3. INFO\n",
    "4. WARNING\n",
    "5. ERROR\n",
    "6. CRITICAL\n",
    "\n",
    "   if level = info is set then info, warning, error and critical root can be accesable but debug and notset cannote be\n",
    "   \n",
    "   means jo level set ki hue he uske neeche ke sare option access keye ja skte he lkin upper walle nahi"
   ]
  },
  {
   "cell_type": "code",
   "execution_count": 5,
   "id": "45959d29-c3ca-4899-980a-0ab937cdc895",
   "metadata": {},
   "outputs": [],
   "source": [
    "logging.warning(\"This is warning msg\")"
   ]
  },
  {
   "cell_type": "code",
   "execution_count": 7,
   "id": "03f94138-af78-4cba-9c5c-5f52a8a4952b",
   "metadata": {},
   "outputs": [],
   "source": [
    "## This msg cannot be to store in the file.\n",
    "logging.debug(\"This is debug msg\")"
   ]
  },
  {
   "cell_type": "code",
   "execution_count": 12,
   "id": "d2f7b69d-9f15-426e-ad99-62bc17eaa289",
   "metadata": {},
   "outputs": [],
   "source": [
    "logging.shutdown()"
   ]
  },
  {
   "cell_type": "markdown",
   "id": "d78cadba-02b6-4768-a705-dd53ffd6c7c9",
   "metadata": {},
   "source": [
    "## for store a time "
   ]
  },
  {
   "cell_type": "code",
   "execution_count": 1,
   "id": "9f5506b9-2ee9-42c5-ac45-fd306661b2c2",
   "metadata": {},
   "outputs": [],
   "source": [
    "import logging\n",
    "logging.basicConfig(filename=\"Text1.log\", level=logging.INFO, format='%(asctime)s %(message)s')"
   ]
  },
  {
   "cell_type": "code",
   "execution_count": 2,
   "id": "a9bf61b2-bf45-4336-b7a7-4c7c3020cda3",
   "metadata": {},
   "outputs": [],
   "source": [
    "logging.info(\"This is info message\")"
   ]
  },
  {
   "cell_type": "code",
   "execution_count": 3,
   "id": "c9987e38-4d4a-44ef-834d-f8dc910b05cb",
   "metadata": {},
   "outputs": [],
   "source": [
    "logging.warning(\"This is warning message\")"
   ]
  },
  {
   "cell_type": "code",
   "execution_count": null,
   "id": "1bd89f67-46bf-40e4-969d-47407e9d0d17",
   "metadata": {},
   "outputs": [],
   "source": []
  }
 ],
 "metadata": {
  "kernelspec": {
   "display_name": "Python 3 (ipykernel)",
   "language": "python",
   "name": "python3"
  },
  "language_info": {
   "codemirror_mode": {
    "name": "ipython",
    "version": 3
   },
   "file_extension": ".py",
   "mimetype": "text/x-python",
   "name": "python",
   "nbconvert_exporter": "python",
   "pygments_lexer": "ipython3",
   "version": "3.11.1"
  }
 },
 "nbformat": 4,
 "nbformat_minor": 5
}
