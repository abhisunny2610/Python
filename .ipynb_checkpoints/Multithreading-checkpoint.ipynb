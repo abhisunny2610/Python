{
 "cells": [
  {
   "cell_type": "markdown",
   "id": "d2ff24d3-eafe-42c7-b1aa-691cc252157a",
   "metadata": {},
   "source": [
    "## Multithreading in Python"
   ]
  },
  {
   "cell_type": "code",
   "execution_count": 18,
   "id": "272bccbd-3670-4597-b9d3-df80c55bc63d",
   "metadata": {},
   "outputs": [],
   "source": [
    "import threading\n",
    "import urllib.request"
   ]
  },
  {
   "cell_type": "code",
   "execution_count": 9,
   "id": "2f4115a1-84d4-48c8-9d6f-ca287c042a0a",
   "metadata": {},
   "outputs": [],
   "source": [
    "def test(id):\n",
    "    print(\"program start %d\"% id)"
   ]
  },
  {
   "cell_type": "code",
   "execution_count": 10,
   "id": "fec8b074-ece1-401f-a038-fe2ae69b3391",
   "metadata": {},
   "outputs": [
    {
     "name": "stdout",
     "output_type": "stream",
     "text": [
      "program start 15\n"
     ]
    }
   ],
   "source": [
    "test(15)"
   ]
  },
  {
   "cell_type": "code",
   "execution_count": 14,
   "id": "453c01a5-cb82-40f4-8bda-1e96657a5365",
   "metadata": {},
   "outputs": [],
   "source": [
    "thread = [threading.Thread(target=test, args=(i,)) for i in range(10)]"
   ]
  },
  {
   "cell_type": "code",
   "execution_count": 15,
   "id": "b597dd45-606a-42cf-8c84-27a73c98d914",
   "metadata": {},
   "outputs": [
    {
     "name": "stdout",
     "output_type": "stream",
     "text": [
      "program start 0\n",
      "program start 1\n",
      "program start 2\n",
      "program start 3\n",
      "program start 4\n",
      "program start 5\n",
      "program start 6\n",
      "program start 7\n",
      "program start 8\n",
      "program start 9\n"
     ]
    }
   ],
   "source": [
    "for t in thread:\n",
    "    t.start()"
   ]
  },
  {
   "cell_type": "code",
   "execution_count": 20,
   "id": "b2977596-8a42-4a68-a827-0fa02ae1562b",
   "metadata": {},
   "outputs": [],
   "source": [
    "def file_download(url, filname):\n",
    "    urllib.request.urlretrieve(url, filname)"
   ]
  },
  {
   "cell_type": "code",
   "execution_count": null,
   "id": "4a893937-32f5-42c5-98b8-01f872363779",
   "metadata": {},
   "outputs": [],
   "source": []
  }
 ],
 "metadata": {
  "kernelspec": {
   "display_name": "Python 3 (ipykernel)",
   "language": "python",
   "name": "python3"
  },
  "language_info": {
   "codemirror_mode": {
    "name": "ipython",
    "version": 3
   },
   "file_extension": ".py",
   "mimetype": "text/x-python",
   "name": "python",
   "nbconvert_exporter": "python",
   "pygments_lexer": "ipython3",
   "version": "3.11.1"
  }
 },
 "nbformat": 4,
 "nbformat_minor": 5
}
