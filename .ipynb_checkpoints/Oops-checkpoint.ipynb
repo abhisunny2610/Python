{
 "cells": [
  {
   "cell_type": "markdown",
   "id": "809aced4-9a53-4529-aec6-4e40d4268dca",
   "metadata": {},
   "source": [
    "### \"OOPs\" stands for Object-Oriented Programming System"
   ]
  },
  {
   "cell_type": "markdown",
   "id": "cea7630b-e89e-4d09-b8f5-5cbf64c405f2",
   "metadata": {},
   "source": [
    "**Creating  a Class**"
   ]
  },
  {
   "cell_type": "code",
   "execution_count": 6,
   "id": "8620fa1e-2f96-45fa-8db3-572870ba5524",
   "metadata": {},
   "outputs": [],
   "source": [
    "class test:\n",
    "\n",
    "    def welcome_msg(self):\n",
    "        print(\"Welcome to the oops class\")"
   ]
  },
  {
   "cell_type": "code",
   "execution_count": 7,
   "id": "4932073b-2740-4955-b67c-92221c2aefd2",
   "metadata": {},
   "outputs": [],
   "source": [
    "abhi = test()"
   ]
  },
  {
   "cell_type": "code",
   "execution_count": 8,
   "id": "94a86706-0c16-4f7a-b71b-e7084344c100",
   "metadata": {},
   "outputs": [
    {
     "name": "stdout",
     "output_type": "stream",
     "text": [
      "<class '__main__.test'>\n"
     ]
    }
   ],
   "source": [
    "print(type(abhi))"
   ]
  },
  {
   "cell_type": "code",
   "execution_count": 9,
   "id": "16c4b6cc-4645-434a-9105-e47bc5ee6c0a",
   "metadata": {},
   "outputs": [
    {
     "name": "stdout",
     "output_type": "stream",
     "text": [
      "Welcome to the oops class\n"
     ]
    }
   ],
   "source": [
    "abhi.welcome_msg()"
   ]
  },
  {
   "cell_type": "code",
   "execution_count": 20,
   "id": "305c9e7f-255b-4431-8005-679f94464041",
   "metadata": {},
   "outputs": [],
   "source": [
    "class student:\n",
    "\n",
    "    def __init__(self, name, age, height, rollNo):\n",
    "        self.name = name\n",
    "        self.age = age\n",
    "        self.height = height\n",
    "        self.rollNo = rollNo\n",
    "\n",
    "    def student_details(self):\n",
    "        return self.name, self.age, self.rollNo, self.height\n",
    "\n",
    "    def __str__(self):\n",
    "        return f\"'Student name {self.name}  Student age {self.age}'\"\n",
    "\n",
    "    "
   ]
  },
  {
   "cell_type": "code",
   "execution_count": 21,
   "id": "acc5c473-ec12-4578-af25-64eb34e2dadc",
   "metadata": {},
   "outputs": [],
   "source": [
    "abhishek = student(\"Abhishek\", 19, 5.7, 10128)"
   ]
  },
  {
   "cell_type": "code",
   "execution_count": 22,
   "id": "e8956bf4-1407-4546-ac72-d9bd110147b4",
   "metadata": {},
   "outputs": [
    {
     "data": {
      "text/plain": [
       "('Abhishek', 19, 10128, 5.7)"
      ]
     },
     "execution_count": 22,
     "metadata": {},
     "output_type": "execute_result"
    }
   ],
   "source": [
    "abhishek.student_details()"
   ]
  },
  {
   "cell_type": "code",
   "execution_count": 23,
   "id": "9a7661b5-f0d7-4aff-879b-3dcc127382c0",
   "metadata": {},
   "outputs": [
    {
     "data": {
      "text/plain": [
       "'Abhishek'"
      ]
     },
     "execution_count": 23,
     "metadata": {},
     "output_type": "execute_result"
    }
   ],
   "source": [
    "abhishek.name"
   ]
  },
  {
   "cell_type": "code",
   "execution_count": 24,
   "id": "1cb1c853-8ea1-49cf-bd43-b54be05187e6",
   "metadata": {},
   "outputs": [
    {
     "name": "stdout",
     "output_type": "stream",
     "text": [
      "'Student name Abhishek  Student age 19'\n"
     ]
    }
   ],
   "source": [
    "print(abhishek)"
   ]
  },
  {
   "cell_type": "markdown",
   "id": "2ddd32ae-94ee-4c4a-aa24-e6c43853c27c",
   "metadata": {},
   "source": [
    "## Polymorphism in Python\n",
    "\n",
    "The word `polymorphism` means `many forms`, and in programming it refers to methods/functions/operators with the same name that can be executed on many object and classes."
   ]
  },
  {
   "cell_type": "code",
   "execution_count": 25,
   "id": "2912c489-5e91-4a87-9451-eda6cad24f10",
   "metadata": {},
   "outputs": [],
   "source": [
    "class class1:\n",
    "\n",
    "    def class_teacher_name(self):\n",
    "        print(\"Class teacher name of class 1st is Renu panwar\")\n",
    "\n",
    "\n",
    "class class2 :\n",
    "\n",
    "    def class_teacher_name(self):\n",
    "        print(\"Class teacher name of class 2st is Akansha Yadav\")\n",
    "\n"
   ]
  },
  {
   "cell_type": "code",
   "execution_count": 36,
   "id": "858c4acf-e8f4-4582-af70-44297dbaf135",
   "metadata": {},
   "outputs": [
    {
     "name": "stdout",
     "output_type": "stream",
     "text": [
      "Class teacher name of class 1st is Renu panwar\n",
      "Class teacher name of class 2st is Akansha Yadav\n"
     ]
    }
   ],
   "source": [
    "cls1 = class1()\n",
    "cls2 = class2()\n",
    "\n",
    "for i in (cls1, cls2):\n",
    "    i.class_teacher_name()"
   ]
  },
  {
   "cell_type": "code",
   "execution_count": 38,
   "id": "fcffc79e-74a3-4e6f-95d4-f43ab82777ea",
   "metadata": {},
   "outputs": [
    {
     "name": "stdout",
     "output_type": "stream",
     "text": [
      "Class teacher name of class 1st is Renu panwar\n",
      "Class teacher name of class 2st is Akansha Yadav\n"
     ]
    }
   ],
   "source": [
    "def class_con(class_object):\n",
    "    for i in class_object:\n",
    "        i.class_teacher_name()\n",
    "\n",
    "cls_obj = [cls1, cls2]\n",
    "\n",
    "class_con(cls_obj)"
   ]
  },
  {
   "cell_type": "markdown",
   "id": "9128caf3-7844-4d47-b679-2ec9f0098893",
   "metadata": {},
   "source": [
    "## Encapsulation in Python\n",
    "\n",
    "Encapsulation describes the idea of wrapping data and the methods that work on data within one unit. This puts restrictions on accessing variables and method directly and can perevent the accidental modification of data.\n",
    "\n",
    "use `__ before variable name` for private variable"
   ]
  },
  {
   "cell_type": "code",
   "execution_count": 39,
   "id": "9adc6f5c-1e1a-4d3d-9189-04a7eef000e6",
   "metadata": {},
   "outputs": [],
   "source": [
    "class number:\n",
    "    def __init__(self, n):\n",
    "        self.n = n\n",
    "\n",
    "    def return_n(self):\n",
    "        return self.n"
   ]
  },
  {
   "cell_type": "code",
   "execution_count": 40,
   "id": "1455c946-988f-4ae0-9a6d-fed6059866bf",
   "metadata": {},
   "outputs": [],
   "source": [
    "num = number(101)"
   ]
  },
  {
   "cell_type": "code",
   "execution_count": 44,
   "id": "2f44a85d-e9d6-4fe0-a046-af4f3f3b2573",
   "metadata": {},
   "outputs": [
    {
     "data": {
      "text/plain": [
       "101"
      ]
     },
     "execution_count": 44,
     "metadata": {},
     "output_type": "execute_result"
    }
   ],
   "source": [
    "num.return_n()"
   ]
  },
  {
   "cell_type": "code",
   "execution_count": 45,
   "id": "43e6c6a9-3c1e-4abb-8a7b-09f7fe5d94b1",
   "metadata": {},
   "outputs": [],
   "source": [
    "num.n = 20227"
   ]
  },
  {
   "cell_type": "code",
   "execution_count": 46,
   "id": "3f617291-8fdc-4519-8c18-bd9ed0b0925e",
   "metadata": {},
   "outputs": [
    {
     "data": {
      "text/plain": [
       "20227"
      ]
     },
     "execution_count": 46,
     "metadata": {},
     "output_type": "execute_result"
    }
   ],
   "source": [
    "num.return_n()"
   ]
  },
  {
   "cell_type": "code",
   "execution_count": 75,
   "id": "cf4816bb-3a47-4555-b772-354591cd3406",
   "metadata": {},
   "outputs": [],
   "source": [
    "class mobile:\n",
    "    def __init__(self, company_name, model, country, price):\n",
    "        self.__company_name = company_name\n",
    "        self.__model = model\n",
    "        self.__country = country\n",
    "        self.__price = price\n",
    "\n",
    "    def set_price(self, price):\n",
    "        self.__price = 28500 if price < 28000 else price\n",
    "\n",
    "    def get_price(self):\n",
    "        return self.__price\n",
    "\n",
    "    def __str__(self):\n",
    "        return f\"Company Name: {self.__company_name}   Model: {self.__model}   Made in: {self.__country}   Price: {self.__price}\""
   ]
  },
  {
   "cell_type": "code",
   "execution_count": 76,
   "id": "7141847b-6b57-48d1-bf2f-d2773cdfe84e",
   "metadata": {},
   "outputs": [],
   "source": [
    "phone = mobile(\"Realme\", \"11 pro + 5G\", \"India\", 28999)"
   ]
  },
  {
   "cell_type": "code",
   "execution_count": 77,
   "id": "707a83f9-fa16-4e03-a016-4f627f4be0a1",
   "metadata": {},
   "outputs": [
    {
     "name": "stdout",
     "output_type": "stream",
     "text": [
      "Company Name: Realme   Model: 11 pro + 5G   Made in: India   Price: 28999\n"
     ]
    }
   ],
   "source": [
    "print(phone)"
   ]
  },
  {
   "cell_type": "code",
   "execution_count": 78,
   "id": "7fd0860f-dcfe-40d5-b4ec-e0d04636d5c7",
   "metadata": {},
   "outputs": [
    {
     "ename": "AttributeError",
     "evalue": "'mobile' object has no attribute 'compnay_name'",
     "output_type": "error",
     "traceback": [
      "\u001b[1;31m---------------------------------------------------------------------------\u001b[0m",
      "\u001b[1;31mAttributeError\u001b[0m                            Traceback (most recent call last)",
      "Cell \u001b[1;32mIn[78], line 1\u001b[0m\n\u001b[1;32m----> 1\u001b[0m \u001b[43mphone\u001b[49m\u001b[38;5;241;43m.\u001b[39;49m\u001b[43mcompnay_name\u001b[49m\n",
      "\u001b[1;31mAttributeError\u001b[0m: 'mobile' object has no attribute 'compnay_name'"
     ]
    }
   ],
   "source": [
    "phone.compnay_name"
   ]
  },
  {
   "cell_type": "code",
   "execution_count": 79,
   "id": "40e2de44-d32f-45d5-83b3-fc996e0ff838",
   "metadata": {},
   "outputs": [
    {
     "data": {
      "text/plain": [
       "'Realme'"
      ]
     },
     "execution_count": 79,
     "metadata": {},
     "output_type": "execute_result"
    }
   ],
   "source": [
    "phone._mobile__company_name"
   ]
  },
  {
   "cell_type": "code",
   "execution_count": 80,
   "id": "ab8b8536-2ec0-455f-ab09-ebe28da0c70b",
   "metadata": {},
   "outputs": [],
   "source": [
    "phone.set_price(29999)"
   ]
  },
  {
   "cell_type": "code",
   "execution_count": 81,
   "id": "857ac406-a71b-4217-8247-ba01a5dedd2d",
   "metadata": {},
   "outputs": [
    {
     "data": {
      "text/plain": [
       "29999"
      ]
     },
     "execution_count": 81,
     "metadata": {},
     "output_type": "execute_result"
    }
   ],
   "source": [
    "phone.get_price()"
   ]
  },
  {
   "cell_type": "code",
   "execution_count": 82,
   "id": "f2db7d41-2f2f-401f-9e6e-e82040da1db3",
   "metadata": {},
   "outputs": [],
   "source": [
    "class bank_account:\n",
    "    def __init__(self, balance):\n",
    "        self.__balance = balance\n",
    "\n",
    "    def deposit(self, amount):\n",
    "        self.__balance = self.__balance + amount\n",
    "\n",
    "    def withdraw(self, amount):\n",
    "        if self.__balance >= amount:\n",
    "            self.__balance = self.__balance - amount\n",
    "            return True\n",
    "        else:\n",
    "            return False\n",
    "\n",
    "    def check_balance(self):\n",
    "        return self.__balance"
   ]
  },
  {
   "cell_type": "code",
   "execution_count": 83,
   "id": "d1673d18-46a1-4faa-b6c5-6159ad08b4e2",
   "metadata": {},
   "outputs": [],
   "source": [
    "priya = bank_account(1000)"
   ]
  },
  {
   "cell_type": "code",
   "execution_count": 84,
   "id": "54b668a3-040f-47d4-a82d-0448dfbd6437",
   "metadata": {},
   "outputs": [
    {
     "data": {
      "text/plain": [
       "1000"
      ]
     },
     "execution_count": 84,
     "metadata": {},
     "output_type": "execute_result"
    }
   ],
   "source": [
    "priya.check_balance()"
   ]
  },
  {
   "cell_type": "code",
   "execution_count": 85,
   "id": "b9b7423e-2393-4500-ac77-16ec61309f00",
   "metadata": {},
   "outputs": [],
   "source": [
    "priya.deposit(3500)"
   ]
  },
  {
   "cell_type": "code",
   "execution_count": 86,
   "id": "31f596ed-f85e-4116-984c-619eddf5df54",
   "metadata": {},
   "outputs": [
    {
     "data": {
      "text/plain": [
       "4500"
      ]
     },
     "execution_count": 86,
     "metadata": {},
     "output_type": "execute_result"
    }
   ],
   "source": [
    "priya.check_balance()"
   ]
  },
  {
   "cell_type": "code",
   "execution_count": 87,
   "id": "8a1d7581-c68a-4793-9240-e19e1cf0cc67",
   "metadata": {},
   "outputs": [
    {
     "data": {
      "text/plain": [
       "True"
      ]
     },
     "execution_count": 87,
     "metadata": {},
     "output_type": "execute_result"
    }
   ],
   "source": [
    "priya.withdraw(500)"
   ]
  },
  {
   "cell_type": "code",
   "execution_count": 88,
   "id": "a2c6a1da-f0b5-494f-a388-cf86df710cad",
   "metadata": {},
   "outputs": [
    {
     "data": {
      "text/plain": [
       "4000"
      ]
     },
     "execution_count": 88,
     "metadata": {},
     "output_type": "execute_result"
    }
   ],
   "source": [
    "priya.check_balance()"
   ]
  },
  {
   "cell_type": "code",
   "execution_count": 89,
   "id": "c152c4fa-7a1b-4488-88dd-811735ecfb6b",
   "metadata": {},
   "outputs": [
    {
     "data": {
      "text/plain": [
       "False"
      ]
     },
     "execution_count": 89,
     "metadata": {},
     "output_type": "execute_result"
    }
   ],
   "source": [
    "priya.withdraw(4500)"
   ]
  },
  {
   "cell_type": "code",
   "execution_count": 90,
   "id": "8da85953-127a-4d63-acdf-c6c793c8fb10",
   "metadata": {},
   "outputs": [
    {
     "data": {
      "text/plain": [
       "4000"
      ]
     },
     "execution_count": 90,
     "metadata": {},
     "output_type": "execute_result"
    }
   ],
   "source": [
    "priya.check_balance()"
   ]
  },
  {
   "cell_type": "markdown",
   "id": "fdd2e07d-eb37-4a99-883e-1b85f6a5a370",
   "metadata": {},
   "source": [
    "## Inheritance in Python\n",
    "\n",
    "Inheritance allows us to define a class that inherits all the methods and properties from another class.\n",
    "\n",
    "`Parent Class` is the class being inherited from, also called base class.\n",
    "\n",
    "`Child Class` is the class that inherits from another class, also called derived class."
   ]
  },
  {
   "cell_type": "code",
   "execution_count": 118,
   "id": "202ef9a9-a29d-42b3-8e56-9b1c03573dec",
   "metadata": {},
   "outputs": [],
   "source": [
    "class tech_student:\n",
    "    def __init__(self, name, id, course, year):\n",
    "        self.name = name\n",
    "        self.id = id\n",
    "        self.course = course\n",
    "        self.year = year\n",
    "\n",
    "    def __str__(self):\n",
    "        return \"student:\" + f\"Name: {self.name}  Id: {self.id}  Course: {self.course}  Year: {self.year}\"\n",
    "\n",
    "class tech_placement(tech_student):\n",
    "    def __init__(self,name, id, course, year, company_name, salary):\n",
    "        super().__init__(name, id, course, year)\n",
    "        self.company_name = company_name\n",
    "        self.salary = salary\n",
    "\n",
    "    def __str__(self):\n",
    "        return \"Placed Student \" +f\"Name: {self.name}  Company Name: {self.company_name}  Salary: {self.salary}\"\n",
    "    \n",
    "    def __repr__(self):\n",
    "        return f\"{self.name}, {self.id} , {self.course} , {self.year} , {self.company_name} , {self.salary}\""
   ]
  },
  {
   "cell_type": "code",
   "execution_count": 119,
   "id": "eda88899-2ef3-49df-b5ad-b7636d51d5ce",
   "metadata": {},
   "outputs": [],
   "source": [
    "ravi = tech_placement(name=\"Ravi Kumar\", id=2032, course=\"Web Development\", year=2022, company_name=\"AleaIt Solution\", salary=15000)"
   ]
  },
  {
   "cell_type": "code",
   "execution_count": 120,
   "id": "8439e2e5-f63e-4827-b6ed-984b0b59fcc1",
   "metadata": {},
   "outputs": [
    {
     "name": "stdout",
     "output_type": "stream",
     "text": [
      "Placed Student Name: Ravi Kumar  Company Name: AleaIt Solution  Salary: 15000\n"
     ]
    }
   ],
   "source": [
    "print(ravi)"
   ]
  },
  {
   "cell_type": "code",
   "execution_count": 121,
   "id": "16ec64d4-b0de-44a5-b98e-ba355b9164a8",
   "metadata": {},
   "outputs": [
    {
     "data": {
      "text/plain": [
       "Ravi Kumar, 2032 , Web Development , 2022 , AleaIt Solution , 15000"
      ]
     },
     "execution_count": 121,
     "metadata": {},
     "output_type": "execute_result"
    }
   ],
   "source": [
    "ravi"
   ]
  },
  {
   "cell_type": "code",
   "execution_count": null,
   "id": "9bb5253e-bfc4-41df-9b70-9416691285df",
   "metadata": {},
   "outputs": [],
   "source": []
  }
 ],
 "metadata": {
  "kernelspec": {
   "display_name": "Python 3 (ipykernel)",
   "language": "python",
   "name": "python3"
  },
  "language_info": {
   "codemirror_mode": {
    "name": "ipython",
    "version": 3
   },
   "file_extension": ".py",
   "mimetype": "text/x-python",
   "name": "python",
   "nbconvert_exporter": "python",
   "pygments_lexer": "ipython3",
   "version": "3.11.1"
  }
 },
 "nbformat": 4,
 "nbformat_minor": 5
}
