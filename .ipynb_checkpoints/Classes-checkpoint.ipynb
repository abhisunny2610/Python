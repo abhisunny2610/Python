{
 "cells": [
  {
   "cell_type": "markdown",
   "id": "9c621a70-cdc2-4293-b06e-e61b3e457994",
   "metadata": {},
   "source": [
    "# Class in Python\n",
    "\n",
    "Python is an object oriented programming language.\r\n",
    "\r\n",
    "Almost everything in Python is an object, with its properties and methods.\r\n",
    "\r\n",
    "A Class is like an object constructor, or a \"blueprint\" for creating objects."
   ]
  },
  {
   "cell_type": "code",
   "execution_count": 8,
   "id": "149f126c-5336-4479-9c8f-50fec8bf873f",
   "metadata": {},
   "outputs": [],
   "source": [
    "class Person:\n",
    "    def __init__(self, name, age, height):\n",
    "        self.name = name\n",
    "        self.age = age\n",
    "        self.height = height\n",
    "\n",
    "    def __str__(self):\n",
    "        return \"Person{\" + f\"name: {self.name}, age: {self.age}, height: {self.height}\" + \"}\"\n",
    "\n",
    "    def __repr__(self):\n",
    "        return \"Person{\" + f\"{self.name}, {self.age}, {self.height}\" + \"}\"\n",
    "\n",
    "    def __lt__(self, person):\n",
    "        return self.age < person.age\n",
    "        \n",
    "    def __gt__(self, person):\n",
    "        return self.age > person.age"
   ]
  },
  {
   "cell_type": "code",
   "execution_count": 9,
   "id": "0e1fd512-2a55-4d19-b1d1-047c997cab53",
   "metadata": {},
   "outputs": [],
   "source": [
    "p1 = Person(\"Abhishek\", 5.7, 19)"
   ]
  },
  {
   "cell_type": "code",
   "execution_count": 10,
   "id": "ae7d3cf8-241d-4d95-99cd-75662465b9f5",
   "metadata": {},
   "outputs": [
    {
     "name": "stdout",
     "output_type": "stream",
     "text": [
      "Person{name: Abhishek, age: 5.7, height: 19}\n"
     ]
    }
   ],
   "source": [
    "print(p1)"
   ]
  },
  {
   "cell_type": "code",
   "execution_count": 11,
   "id": "2e963944-09f9-451b-8a4e-344260836b6f",
   "metadata": {},
   "outputs": [
    {
     "data": {
      "text/plain": [
       "Person{Abhishek, 5.7, 19}"
      ]
     },
     "execution_count": 11,
     "metadata": {},
     "output_type": "execute_result"
    }
   ],
   "source": [
    "p1"
   ]
  },
  {
   "cell_type": "markdown",
   "id": "f23a8a58-a9c5-4bd2-b50a-c1f4f37384ab",
   "metadata": {},
   "source": [
    "# Inheritance in Python"
   ]
  },
  {
   "cell_type": "code",
   "execution_count": 13,
   "id": "20fab2ac-627b-4dc9-b5f9-340b3ff15d81",
   "metadata": {},
   "outputs": [],
   "source": [
    "class Student(Person):\n",
    "    def __init__(self, name, age, height, std, rollNo):\n",
    "        super().__init__(name, age, height)\n",
    "        self.std = std\n",
    "        self.rollNo = rollNo\n",
    "\n",
    "    def __str__(self):\n",
    "        return \"Student{\" + f\"name: {self.name}, std: {self.std}, rollNo: {self.rollNo}\" + \"}\"\n",
    "\n",
    "    def __repr__(self):\n",
    "        return \"Person{\" + f\"{self.name}, {self.age}, {self.height}, {self.std}, {self.rollNo}\" + \"}\""
   ]
  },
  {
   "cell_type": "code",
   "execution_count": 14,
   "id": "63f2d3a9-c41f-4925-a069-7f8645a1e09d",
   "metadata": {},
   "outputs": [],
   "source": [
    "st = Student(\"Abhishek\", 19, 5.7, \"12th\", 501)"
   ]
  },
  {
   "cell_type": "code",
   "execution_count": 15,
   "id": "b710a33c-fb82-442b-ab4c-d4b52ff2a452",
   "metadata": {},
   "outputs": [
    {
     "name": "stdout",
     "output_type": "stream",
     "text": [
      "Student{name: Abhishek, std: 12th, rollNo: 501}\n"
     ]
    }
   ],
   "source": [
    "print(st)"
   ]
  },
  {
   "cell_type": "code",
   "execution_count": 16,
   "id": "d946b8f4-6374-4689-81f8-d5e5414f4dbf",
   "metadata": {},
   "outputs": [
    {
     "data": {
      "text/plain": [
       "Person{Abhishek, 19, 5.7, 12th, 501}"
      ]
     },
     "execution_count": 16,
     "metadata": {},
     "output_type": "execute_result"
    }
   ],
   "source": [
    "st"
   ]
  },
  {
   "cell_type": "code",
   "execution_count": null,
   "id": "e0f72239-b853-4a96-b496-6a84d424a5d5",
   "metadata": {},
   "outputs": [],
   "source": []
  }
 ],
 "metadata": {
  "kernelspec": {
   "display_name": "Python 3 (ipykernel)",
   "language": "python",
   "name": "python3"
  },
  "language_info": {
   "codemirror_mode": {
    "name": "ipython",
    "version": 3
   },
   "file_extension": ".py",
   "mimetype": "text/x-python",
   "name": "python",
   "nbconvert_exporter": "python",
   "pygments_lexer": "ipython3",
   "version": "3.11.1"
  }
 },
 "nbformat": 4,
 "nbformat_minor": 5
}
