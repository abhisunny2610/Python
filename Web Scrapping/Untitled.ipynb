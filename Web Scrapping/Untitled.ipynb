{
 "cells": [
  {
   "cell_type": "code",
   "execution_count": 11,
   "id": "0a532543-021f-440f-b75b-dc0b49d7ad92",
   "metadata": {},
   "outputs": [],
   "source": [
    "import requests\n",
    "from bs4 import BeautifulSoup as bs\n",
    "from urllib.request import urlopen\n",
    "import logging"
   ]
  },
  {
   "cell_type": "code",
   "execution_count": 5,
   "id": "3e28c2a5-7096-47b3-9f2b-f77a2b7f00f3",
   "metadata": {},
   "outputs": [],
   "source": [
    "amazon_url = \"https://www.amazon.in/s?k=\" + \"iphone13\""
   ]
  },
  {
   "cell_type": "code",
   "execution_count": 6,
   "id": "f24db068-b440-4f16-bfe4-7aa977a8b2e8",
   "metadata": {},
   "outputs": [
    {
     "data": {
      "text/plain": [
       "'https://www.amazon.in/s?k=iphone13'"
      ]
     },
     "execution_count": 6,
     "metadata": {},
     "output_type": "execute_result"
    }
   ],
   "source": [
    "amazon_url"
   ]
  },
  {
   "cell_type": "code",
   "execution_count": 12,
   "id": "9a4e56f0-edd6-4c2d-8420-a0cac7953d7a",
   "metadata": {},
   "outputs": [],
   "source": [
    "urlClient = urlopen(amazon_url)"
   ]
  },
  {
   "cell_type": "code",
   "execution_count": 13,
   "id": "b39c6c23-3e82-434a-88a4-e19380517d32",
   "metadata": {},
   "outputs": [
    {
     "data": {
      "text/plain": [
       "<http.client.HTTPResponse at 0x1e9bdf22890>"
      ]
     },
     "execution_count": 13,
     "metadata": {},
     "output_type": "execute_result"
    }
   ],
   "source": [
    "urlClient"
   ]
  },
  {
   "cell_type": "code",
   "execution_count": 14,
   "id": "392a517b-b888-4cb4-a98b-11e0dcc06626",
   "metadata": {},
   "outputs": [],
   "source": [
    "amazon_page = urlClient.read()"
   ]
  },
  {
   "cell_type": "code",
   "execution_count": 16,
   "id": "6dccf87b-51b3-48e1-989a-b7b9d4680057",
   "metadata": {},
   "outputs": [],
   "source": [
    "amazon_html = bs(amazon_page, \"html.parser\")"
   ]
  },
  {
   "cell_type": "code",
   "execution_count": 45,
   "id": "3c299952-cee5-473c-bc82-fbec3078a691",
   "metadata": {},
   "outputs": [],
   "source": [
    "big_box = amazon_html.findAll(\"div\", {\"class\" : \"a-section a-spacing-none puis-padding-right-small s-title-instructions-style\"})"
   ]
  },
  {
   "cell_type": "code",
   "execution_count": 46,
   "id": "dd275a41-5bf7-4838-b30e-7cd8a3cf40d0",
   "metadata": {},
   "outputs": [
    {
     "data": {
      "text/plain": [
       "16"
      ]
     },
     "execution_count": 46,
     "metadata": {},
     "output_type": "execute_result"
    }
   ],
   "source": [
    "len(big_box)"
   ]
  },
  {
   "cell_type": "code",
   "execution_count": 51,
   "id": "9ac6b506-5a5c-4722-b0dd-980faae3acba",
   "metadata": {},
   "outputs": [
    {
     "data": {
      "text/plain": [
       "<div class=\"a-row a-size-base a-color-secondary\"><span class=\"rush-component\" data-component-type=\"s-client-side-analytics\" data-render-id=\"r1cqpslzypoe582tut14odjgrtc\" data-version-id=\"v3vtwxgppca0z12v18v51zrqona\"><div class=\"s-csa-instrumentation-wrapper s-csa-inject-redirect-emitter\" data-csa-c-asin=\"B09G9BL5CP\" data-csa-c-content-id=\"ideal-use-case-shopping\" data-csa-c-idealuse=\"photography\" data-csa-c-interaction-events=\"click\" data-csa-c-producttype=\"phone\" data-csa-c-searchquery=\"iphone13\" data-csa-c-slot-id=\"ideal-use-case-shopping\" data-csa-c-type=\"widget\"><span class=\"a-declarative\" data-a-popover='{\"name\":\"ideal-use-case-B09G9BL5CP\",\"position\":\"triggerVertical\",\"closeButton\":\"true\",\"dataStrategy\":\"preload\"}' data-action=\"a-popover\" data-csa-c-func-deps=\"aui-da-a-popover\" data-csa-c-type=\"widget\" data-render-id=\"r1cqpslzypoe582tut14odjgrtc\" data-version-id=\"v3vtwxgppca0z12v18v51zrqona\"><a class=\"puis-label-popover\" href=\"javascript:void(0)\" role=\"button\" style=\"text-decoration: none;\"><span><span class=\"s-background-color-platinum a-color-base a-padding-mini aok-nowrap aok-align-top aok-inline-block a-spacing-top-micro\"><span>Good for </span><span class=\"a-text-bold\">Photography</span></span></span><span class=\"aok-inline-block puis-ideal-use-case-info-icon\"></span></a></span><div class=\"a-popover-preload\" id=\"a-popover-ideal-use-case-B09G9BL5CP\"><div class=\"puis puis-v3vtwxgppca0z12v18v51zrqona\"><span>This phone is good for photography based on product specifications.</span><span class=\"a-letter-space\"></span><a class=\"a-link-normal s-underline-text s-underline-link-text s-link-style\" href=\"https://www.amazon.in/b?node=89528017031\">Learn more</a> </div></div></div></span></div>"
      ]
     },
     "execution_count": 51,
     "metadata": {},
     "output_type": "execute_result"
    }
   ],
   "source": [
    "big_box[0].div"
   ]
  },
  {
   "cell_type": "code",
   "execution_count": null,
   "id": "8767933b-154b-4d6b-9c08-fe7a3c47b715",
   "metadata": {},
   "outputs": [],
   "source": []
  }
 ],
 "metadata": {
  "kernelspec": {
   "display_name": "Python 3 (ipykernel)",
   "language": "python",
   "name": "python3"
  },
  "language_info": {
   "codemirror_mode": {
    "name": "ipython",
    "version": 3
   },
   "file_extension": ".py",
   "mimetype": "text/x-python",
   "name": "python",
   "nbconvert_exporter": "python",
   "pygments_lexer": "ipython3",
   "version": "3.11.1"
  }
 },
 "nbformat": 4,
 "nbformat_minor": 5
}
