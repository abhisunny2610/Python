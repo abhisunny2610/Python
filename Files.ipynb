{
 "cells": [
  {
   "cell_type": "code",
   "execution_count": 27,
   "id": "2696435a-fdf1-4dac-a4f4-784af61b1ef0",
   "metadata": {},
   "outputs": [],
   "source": [
    "file = open(\"dummy.txt\", 'w')"
   ]
  },
  {
   "cell_type": "code",
   "execution_count": 28,
   "id": "60ca2fea-58ef-46bc-944e-81c18a9aa569",
   "metadata": {},
   "outputs": [
    {
     "data": {
      "text/plain": [
       "24"
      ]
     },
     "execution_count": 28,
     "metadata": {},
     "output_type": "execute_result"
    }
   ],
   "source": [
    "file.write(\"Hello how are you men...\")"
   ]
  },
  {
   "cell_type": "code",
   "execution_count": 32,
   "id": "61c73129-6203-45b3-a747-22ce706d5731",
   "metadata": {},
   "outputs": [],
   "source": [
    "file.close()"
   ]
  },
  {
   "cell_type": "code",
   "execution_count": 33,
   "id": "d98bad4b-e870-4392-9cc0-3d6bff98d090",
   "metadata": {},
   "outputs": [],
   "source": [
    "file = open(\"dummy.txt\", 'r')"
   ]
  },
  {
   "cell_type": "code",
   "execution_count": 38,
   "id": "24198691-773a-4e5f-9c83-1e13b75192f5",
   "metadata": {},
   "outputs": [
    {
     "data": {
      "text/plain": [
       "'Hello how are you men...'"
      ]
     },
     "execution_count": 38,
     "metadata": {},
     "output_type": "execute_result"
    }
   ],
   "source": [
    "file.read()"
   ]
  },
  {
   "cell_type": "code",
   "execution_count": 37,
   "id": "f9108d2c-8f23-43a1-8a67-464551230913",
   "metadata": {},
   "outputs": [
    {
     "data": {
      "text/plain": [
       "0"
      ]
     },
     "execution_count": 37,
     "metadata": {},
     "output_type": "execute_result"
    }
   ],
   "source": [
    "file.seek(0)"
   ]
  },
  {
   "cell_type": "code",
   "execution_count": 45,
   "id": "67611e6c-6c13-4371-a4ed-378ce6931aef",
   "metadata": {},
   "outputs": [],
   "source": [
    "import os"
   ]
  },
  {
   "cell_type": "code",
   "execution_count": 46,
   "id": "62e0983e-37bd-44a6-8dab-c642f25f6c43",
   "metadata": {},
   "outputs": [
    {
     "data": {
      "text/plain": [
       "24"
      ]
     },
     "execution_count": 46,
     "metadata": {},
     "output_type": "execute_result"
    }
   ],
   "source": [
    "os.path.getsize(\"dummy.txt\")"
   ]
  },
  {
   "cell_type": "code",
   "execution_count": 47,
   "id": "9e75b3f0-4cf4-472c-82eb-5e991db0e687",
   "metadata": {},
   "outputs": [
    {
     "ename": "PermissionError",
     "evalue": "[WinError 32] The process cannot access the file because it is being used by another process: 'dummy.txt'",
     "output_type": "error",
     "traceback": [
      "\u001b[1;31m---------------------------------------------------------------------------\u001b[0m",
      "\u001b[1;31mPermissionError\u001b[0m                           Traceback (most recent call last)",
      "Cell \u001b[1;32mIn[47], line 1\u001b[0m\n\u001b[1;32m----> 1\u001b[0m \u001b[43mos\u001b[49m\u001b[38;5;241;43m.\u001b[39;49m\u001b[43mremove\u001b[49m\u001b[43m(\u001b[49m\u001b[38;5;124;43m\"\u001b[39;49m\u001b[38;5;124;43mdummy.txt\u001b[39;49m\u001b[38;5;124;43m\"\u001b[39;49m\u001b[43m)\u001b[49m\n",
      "\u001b[1;31mPermissionError\u001b[0m: [WinError 32] The process cannot access the file because it is being used by another process: 'dummy.txt'"
     ]
    }
   ],
   "source": [
    "os.remove(\"dummy.txt\")"
   ]
  },
  {
   "cell_type": "markdown",
   "id": "d107eb5f-4ccc-491d-806e-a128a80f2408",
   "metadata": {},
   "source": [
    "## Reading and Writing Files"
   ]
  },
  {
   "cell_type": "code",
   "execution_count": 1,
   "id": "45e7eeb9-3842-4973-89ab-6a50b313bc20",
   "metadata": {},
   "outputs": [],
   "source": [
    "data = {\n",
    "    \"name\": \"Abhishek\",\n",
    "    \"email\": \"abhisheksunny452@gmail.com\",\n",
    "    \"contact\" : 9759185546,\n",
    "    \"courses\": [\"data science\", \"java\", \"c++\"]\n",
    "}"
   ]
  },
  {
   "cell_type": "code",
   "execution_count": 2,
   "id": "5ed80768-0fb3-46fa-858d-66dac8d46960",
   "metadata": {},
   "outputs": [],
   "source": [
    "import json"
   ]
  },
  {
   "cell_type": "code",
   "execution_count": 3,
   "id": "6774c503-aa68-47ca-ba11-f85afd2c2c98",
   "metadata": {},
   "outputs": [],
   "source": [
    "with open(\"data.json\", \"w\") as file:\n",
    "    json.dump(data, file)"
   ]
  },
  {
   "cell_type": "code",
   "execution_count": 4,
   "id": "818cba3d-2abe-4973-b14d-d3b7557e3e8a",
   "metadata": {},
   "outputs": [],
   "source": [
    "with open(\"data.json\", \"r\") as file:\n",
    "    data1 = json.load(file)"
   ]
  },
  {
   "cell_type": "code",
   "execution_count": 5,
   "id": "efb561d3-e80c-413c-8428-0ec130cc9d36",
   "metadata": {},
   "outputs": [
    {
     "data": {
      "text/plain": [
       "{'name': 'Abhishek',\n",
       " 'email': 'abhisheksunny452@gmail.com',\n",
       " 'contact': 9759185546,\n",
       " 'courses': ['data science', 'java', 'c++']}"
      ]
     },
     "execution_count": 5,
     "metadata": {},
     "output_type": "execute_result"
    }
   ],
   "source": [
    "data1"
   ]
  },
  {
   "cell_type": "code",
   "execution_count": 6,
   "id": "afbd0e84-c6ee-4618-987a-01a8b929f41c",
   "metadata": {},
   "outputs": [],
   "source": [
    "import csv"
   ]
  },
  {
   "cell_type": "code",
   "execution_count": 8,
   "id": "179b43ca-0659-41c5-a2c2-a660398fa553",
   "metadata": {},
   "outputs": [],
   "source": [
    "csv_data = [[\"name\", \"email\", \"contact\"],\n",
    "           [\"Abhishek\", \"abhi15@gmail.com\", 9457892907],\n",
    "           [\"Manish\", \"manishmoni@gmail.com\", 9473958200]\n",
    "           ]"
   ]
  },
  {
   "cell_type": "code",
   "execution_count": 10,
   "id": "00fb19d6-f9d0-45a5-b7ae-8148e3ac8465",
   "metadata": {},
   "outputs": [],
   "source": [
    "with open(\"csv_data.csv\", \"w\") as file:\n",
    "    writer = csv.writer(file)\n",
    "\n",
    "    for i in csv_data:\n",
    "        writer.writerow(i)"
   ]
  },
  {
   "cell_type": "code",
   "execution_count": 11,
   "id": "9cf775e7-cc45-43b9-bb20-082e9553c572",
   "metadata": {},
   "outputs": [
    {
     "name": "stdout",
     "output_type": "stream",
     "text": [
      "['name', 'email', 'contact']\n",
      "[]\n",
      "['Abhishek', 'abhi15@gmail.com', '9457892907']\n",
      "[]\n",
      "['Manish', 'manishmoni@gmail.com', '9473958200']\n",
      "[]\n"
     ]
    }
   ],
   "source": [
    "with open(\"csv_data.csv\", \"r\") as file:\n",
    "    data2 = csv.reader(file)\n",
    "\n",
    "    for i in data2:\n",
    "        print(i)"
   ]
  },
  {
   "cell_type": "code",
   "execution_count": 17,
   "id": "bcb1462a-2374-4bac-be2d-fd3321a3800d",
   "metadata": {},
   "outputs": [],
   "source": [
    "with open(\"binary.bin\", \"wb\") as file:\n",
    "    file.write(b\"\\x01\\x02\\x03\")"
   ]
  },
  {
   "cell_type": "code",
   "execution_count": 20,
   "id": "3a79cfb3-3cb5-4545-8b7b-223f7a8f165d",
   "metadata": {},
   "outputs": [
    {
     "name": "stdout",
     "output_type": "stream",
     "text": [
      "b''\n"
     ]
    }
   ],
   "source": [
    "with open(\"binary.bin\", \"rb\") as file:\n",
    "    print(file.read())"
   ]
  },
  {
   "cell_type": "code",
   "execution_count": 21,
   "id": "b63b9b3b-2160-438a-b9a4-3aeb0298df54",
   "metadata": {},
   "outputs": [],
   "source": [
    "import logging"
   ]
  },
  {
   "cell_type": "code",
   "execution_count": null,
   "id": "58d4aaac-d13b-4c98-8e48-d7436c806d91",
   "metadata": {},
   "outputs": [],
   "source": []
  },
  {
   "cell_type": "code",
   "execution_count": null,
   "id": "e916413e-ce72-4157-9625-cf059902e95f",
   "metadata": {},
   "outputs": [],
   "source": []
  }
 ],
 "metadata": {
  "kernelspec": {
   "display_name": "Python 3 (ipykernel)",
   "language": "python",
   "name": "python3"
  },
  "language_info": {
   "codemirror_mode": {
    "name": "ipython",
    "version": 3
   },
   "file_extension": ".py",
   "mimetype": "text/x-python",
   "name": "python",
   "nbconvert_exporter": "python",
   "pygments_lexer": "ipython3",
   "version": "3.11.1"
  }
 },
 "nbformat": 4,
 "nbformat_minor": 5
}
